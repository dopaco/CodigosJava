{
  "nbformat": 4,
  "nbformat_minor": 0,
  "metadata": {
    "colab": {
      "provenance": [],
      "include_colab_link": true
    },
    "kernelspec": {
      "name": "python3",
      "display_name": "Python 3"
    },
    "language_info": {
      "name": "python"
    }
  },
  "cells": [
    {
      "cell_type": "markdown",
      "metadata": {
        "id": "view-in-github",
        "colab_type": "text"
      },
      "source": [
        "<a href=\"https://colab.research.google.com/github/dopaco/CodigosJava/blob/master/Live1_BoasPr%C3%A1ticas.ipynb\" target=\"_parent\"><img src=\"https://colab.research.google.com/assets/colab-badge.svg\" alt=\"Open In Colab\"/></a>"
      ]
    },
    {
      "cell_type": "markdown",
      "source": [
        "# Boas Práticas de Programação em Python\n"
      ],
      "metadata": {
        "id": "wK1Irjpg5i3C"
      }
    },
    {
      "cell_type": "markdown",
      "source": [
        "# Explique o código abaixo"
      ],
      "metadata": {
        "id": "8K-uX8DR5OJ9"
      }
    },
    {
      "cell_type": "code",
      "source": [
        "from typing import List"
      ],
      "metadata": {
        "id": "9Cz1rHEbfa3o"
      },
      "execution_count": null,
      "outputs": []
    },
    {
      "cell_type": "code",
      "execution_count": null,
      "metadata": {
        "colab": {
          "base_uri": "https://localhost:8080/"
        },
        "id": "3UXtAKEq5LGA",
        "outputId": "dba71f75-0f35-4a74-9b9d-a71492195b56"
      },
      "outputs": [
        {
          "output_type": "stream",
          "name": "stdout",
          "text": [
            "15\n"
          ]
        }
      ],
      "source": [
        "def sum_list(lista:List[int]):\n",
        "  s = 0\n",
        "  for i in range(0, len(x)):\n",
        "    s += lista[i]\n",
        "  return s\n",
        "\n",
        "a = [1, 2, 3, 4, 5]\n",
        "print(sum_list(a))"
      ]
    },
    {
      "cell_type": "code",
      "source": [
        "x = sum_list(lista=[10, 10])\n",
        "x"
      ],
      "metadata": {
        "colab": {
          "base_uri": "https://localhost:8080/"
        },
        "id": "1tIuf10gev5x",
        "outputId": "a1b9d239-b6fb-4354-867e-52c990f1a53d"
      },
      "execution_count": null,
      "outputs": [
        {
          "output_type": "execute_result",
          "data": {
            "text/plain": [
              "20"
            ]
          },
          "metadata": {},
          "execution_count": 3
        }
      ]
    },
    {
      "cell_type": "markdown",
      "source": [
        "### Quais os problemas?\n",
        "- Nome da função\n",
        "\n",
        "- Nome dos obj e params\n",
        "\n",
        "- sem a DocString\n",
        "\n",
        "- sem os types\n",
        "\n",
        "-\n",
        "\n",
        "-\n",
        "-"
      ],
      "metadata": {
        "id": "4g2PTw735viW"
      }
    },
    {
      "cell_type": "markdown",
      "source": [
        "-------\n",
        "## Agora o mesmo código"
      ],
      "metadata": {
        "id": "uwRK7Qag6wix"
      }
    },
    {
      "cell_type": "code",
      "source": [
        "# padrao snake_case, e.g. Leonardo:  minha_funcao\n",
        "\n",
        "from typing import List\n",
        "\n",
        "def calculate_sum(numbers: List[int]=[10,10]) -> int:\n",
        "    \"\"\"\n",
        "    Calcula a soma de uma lista de números.\n",
        "\n",
        "    Args:\n",
        "        numbers (List[int]): Lista de números inteiros.\n",
        "\n",
        "    Returns:\n",
        "        int: Soma dos números na lista.\n",
        "    \"\"\"\n",
        "\n",
        "\n",
        "    total = 0\n",
        "    for number in numbers:\n",
        "        total += number\n",
        "    return total\n",
        "\n",
        "numbers_list = [1, 2, 3, 4, 5]\n",
        "print(calculate_sum(numbers_list))"
      ],
      "metadata": {
        "id": "No40ZjG65xG7"
      },
      "execution_count": null,
      "outputs": []
    },
    {
      "cell_type": "markdown",
      "source": [
        "## Melhorias:\n",
        "- Nomes de função e variáveis descritivos.\n",
        "- Tipagem explícita nos argumentos e no retorno da função.\n",
        "- Indentação consistente.\n",
        "- Documentação clara.\n",
        "- Segue as convenções de estilo do Python.\n",
        "\n",
        "## Discussão\n",
        "- **Legibilidade**: Código com boas práticas é mais fácil de ler e entender.\n",
        "- **Manutenção**: Código bem estruturado é mais fácil de manter e atualizar.\n",
        "- **Colaboração**: Facilita o trabalho em equipe, pois todos seguem as mesmas convenções."
      ],
      "metadata": {
        "id": "gF1nwl1_68eh"
      }
    },
    {
      "cell_type": "markdown",
      "source": [
        "----------\n",
        "# O PEP 8\n",
        "\n",
        "https://realpython.com/python-pep8/\n",
        "\n",
        "https://peps.python.org/pep-0008/\n"
      ],
      "metadata": {
        "id": "_IPkkaeZ7Lhy"
      }
    },
    {
      "cell_type": "code",
      "source": [
        "import pandas as pd\n",
        "import logging"
      ],
      "metadata": {
        "id": "txbzXoStp6e7"
      },
      "execution_count": null,
      "outputs": []
    },
    {
      "cell_type": "code",
      "source": [
        "def run() -> None:\n",
        "  try:\n",
        "    x = 10 / 0\n",
        "    y = x * 2\n",
        "\n",
        "\n",
        "    logging.info('minha funcao rodou')\n",
        "  except Exception as error:\n",
        "    logging.error(f'meu app falhou, com o erro: {error}')\n",
        "\n",
        "run()"
      ],
      "metadata": {
        "colab": {
          "base_uri": "https://localhost:8080/"
        },
        "id": "LHByVc9inZKT",
        "outputId": "508eabb8-5aa3-455c-d252-9523475a3a56"
      },
      "execution_count": null,
      "outputs": [
        {
          "output_type": "stream",
          "name": "stderr",
          "text": [
            "ERROR:root:meu app falhou, com o erro: division by zero\n"
          ]
        }
      ]
    },
    {
      "cell_type": "markdown",
      "source": [
        "### Principais Recomendações:\n",
        "- Indentação: Use 4 espaços por nível de indentação.\n",
        "- Comprimento das Linhas: Mantenha as linhas de código com no máximo 79 caracteres.\n",
        "- Espaços em Branco: Use espaços em branco ao redor de operadores e após vírgulas, mas não dentro de parênteses.\n",
        "- Nomes de Variáveis e Funções:\n",
        "  - Use snake_case para nomes de variáveis e funções.\n",
        "  - Use camelCase , PascalCase para nomes de classes.\n",
        "- Comentários e Docstrings:\n",
        "  - Escreva comentários claros e concisos (se necessário).\n",
        "  - Use docstrings para documentar funções, classes e módulos."
      ],
      "metadata": {
        "id": "ZGwk1cl37cjM"
      }
    },
    {
      "cell_type": "markdown",
      "source": [
        "--------\n",
        "#### 3. Organização do Código\n",
        "- **Módulos e Pacotes:**\n",
        "  - Divida o código em módulos e pacotes para melhorar a organização e reusabilidade.\n",
        "- **Estrutura de Pastas:**\n",
        "  - Mantenha uma estrutura de pastas coerente, por exemplo:\n",
        "    ```\n",
        "    my_project/\n",
        "        ├── my_package/\n",
        "        │   ├── __init__.py\n",
        "        │   ├── module1.py\n",
        "        │   ├── module2.py\n",
        "        ├── tests/\n",
        "        │   ├── __init__.py\n",
        "        │   ├── test_module1.py\n",
        "        ├── README.md\n",
        "        ├── setup.py\n",
        "    ```\n"
      ],
      "metadata": {
        "id": "6Vv3Q6PX76VW"
      }
    },
    {
      "cell_type": "markdown",
      "source": [
        "--------\n",
        "#### 4. Documentação\n",
        "- **Docstrings:**\n",
        "  - Use docstrings para documentar o propósito e a funcionalidade de funções, classes e módulos.\n",
        "  - Exemplos:\n",
        "    ```python\n",
        "    def add(a: int, b: int) -> int:\n",
        "        \"\"\"\n",
        "        Adiciona dois números e retorna o resultado.\n",
        "\n",
        "        Args:\n",
        "            a (int): Primeiro número.\n",
        "            b (int): Segundo número.\n",
        "\n",
        "        Returns:\n",
        "            int: Resultado da adição.\n",
        "        \"\"\"\n",
        "        return a + b\n",
        "    ```\n",
        "- **Comentários:**\n",
        "  - Mantenha os comentários atualizados com as mudanças no código."
      ],
      "metadata": {
        "id": "2s8TAynQ8CKB"
      }
    },
    {
      "cell_type": "markdown",
      "source": [
        "-----------\n",
        "#### 5. Tratamento de Exceções\n",
        "- **Captura e Tratamento de Erros:**\n",
        "  - Use blocos `try-except` para capturar e tratar exceções.\n",
        "  - Exemplo:\n",
        "    ```python\n",
        "    try:\n",
        "        result = 10 / 0\n",
        "    except ZeroDivisionError as e:\n",
        "        print(f\"Erro: {e}\")\n",
        "    ```"
      ],
      "metadata": {
        "id": "3vZlJ-6b8RSA"
      }
    },
    {
      "cell_type": "markdown",
      "source": [
        "-------\n",
        "#### 7. Boas Práticas Adicionais\n",
        "- **Código Limpo:**\n",
        "  - Mantenha o código simples e direto.\n",
        "  - Evite complexidade desnecessária.\n",
        "- **Versionamento:**\n",
        "  - Use sistemas de controle de versão como Git para gerenciar mudanças no código.\n",
        "- **Revisão de Código:**\n",
        "  - Realize revisões de código para garantir qualidade e conformidade com as boas práticas.\n",
        "- **Documentação:**\n",
        "  - Crie e mantenha atualizado o arquivo README.md (markdown) com informações relevantes do teu projeto;"
      ],
      "metadata": {
        "id": "4BRPMc_98XRR"
      }
    },
    {
      "cell_type": "markdown",
      "source": [
        "---------\n",
        "\n",
        "#### 8. Ferramentas de Apoio\n",
        "- **Linters:**\n",
        "  - Use ferramentas como `pylint`, `flake8` e `black` para verificar e corrigir o estilo do código.\n",
        "- **Formatadores Automáticos:**\n",
        "  - Use `black` para formatar automaticamente o código de acordo com as convenções.\n"
      ],
      "metadata": {
        "id": "yuUQJNK68j47"
      }
    },
    {
      "cell_type": "code",
      "source": [
        "lista = list()\n",
        "for i in range(1, 10):\n",
        "  lista.append(i)\n",
        "lista"
      ],
      "metadata": {
        "id": "J8Jv5yZC8jE-",
        "colab": {
          "base_uri": "https://localhost:8080/"
        },
        "outputId": "a8885203-d6c4-43c8-8750-dabc2ea12fb2"
      },
      "execution_count": null,
      "outputs": [
        {
          "output_type": "execute_result",
          "data": {
            "text/plain": [
              "[1, 2, 3, 4, 5, 6, 7, 8, 9]"
            ]
          },
          "metadata": {},
          "execution_count": 12
        }
      ]
    },
    {
      "cell_type": "code",
      "source": [
        "lista2 = [i for i in range(1, 10)]"
      ],
      "metadata": {
        "id": "qC1_HA6wuv0F"
      },
      "execution_count": null,
      "outputs": []
    },
    {
      "cell_type": "code",
      "source": [
        "display(lista, lista2)"
      ],
      "metadata": {
        "colab": {
          "base_uri": "https://localhost:8080/",
          "height": 52
        },
        "id": "pMOqyVleu3oa",
        "outputId": "56cb2a7c-ec8d-4dd4-faf4-40b353770712"
      },
      "execution_count": null,
      "outputs": [
        {
          "output_type": "display_data",
          "data": {
            "text/plain": [
              "[1, 2, 3, 4, 5, 6, 7, 8, 9]"
            ]
          },
          "metadata": {}
        },
        {
          "output_type": "display_data",
          "data": {
            "text/plain": [
              "[1, 2, 3, 4, 5, 6, 7, 8, 9]"
            ]
          },
          "metadata": {}
        }
      ]
    },
    {
      "cell_type": "code",
      "source": [
        "dataframe[dataframe.x >= var]\\\n",
        ".fillna()\\\n",
        ".astype()\\\n",
        ".drop_duplicates()\\\n",
        ".reset_index()\n"
      ],
      "metadata": {
        "colab": {
          "base_uri": "https://localhost:8080/",
          "height": 141
        },
        "id": "13WVUA-Gu55N",
        "outputId": "ee514407-7b94-495b-e6e2-1a13c480dff0"
      },
      "execution_count": null,
      "outputs": [
        {
          "output_type": "error",
          "ename": "NameError",
          "evalue": "name 'dataframe' is not defined",
          "traceback": [
            "\u001b[0;31m---------------------------------------------------------------------------\u001b[0m",
            "\u001b[0;31mNameError\u001b[0m                                 Traceback (most recent call last)",
            "\u001b[0;32m<ipython-input-15-42e04cc7365a>\u001b[0m in \u001b[0;36m<cell line: 1>\u001b[0;34m()\u001b[0m\n\u001b[0;32m----> 1\u001b[0;31m \u001b[0;34m(\u001b[0m\u001b[0mdataframe\u001b[0m\u001b[0;34m.\u001b[0m\u001b[0mfillna\u001b[0m\u001b[0;34m(\u001b[0m\u001b[0;34m)\u001b[0m\u001b[0;34m.\u001b[0m\u001b[0mastype\u001b[0m\u001b[0;34m(\u001b[0m\u001b[0;34m)\u001b[0m\u001b[0;34m.\u001b[0m\u001b[0mdrop_duplicates\u001b[0m\u001b[0;34m(\u001b[0m\u001b[0;34m)\u001b[0m\u001b[0;34m.\u001b[0m\u001b[0mreset_index\u001b[0m\u001b[0;34m(\u001b[0m\u001b[0;34m)\u001b[0m\u001b[0;34m)\u001b[0m\u001b[0;34m\u001b[0m\u001b[0;34m\u001b[0m\u001b[0m\n\u001b[0m",
            "\u001b[0;31mNameError\u001b[0m: name 'dataframe' is not defined"
          ]
        }
      ]
    },
    {
      "cell_type": "code",
      "source": [],
      "metadata": {
        "id": "vjKpJmfm0F_4"
      },
      "execution_count": null,
      "outputs": []
    }
  ]
}